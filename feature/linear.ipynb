{
 "cells": [
  {
   "cell_type": "code",
   "execution_count": 5,
   "metadata": {
    "collapsed": false
   },
   "outputs": [],
   "source": [
    "%matplotlib inline\n",
    "import numpy as np\n",
    "import matplotlib.pyplot as plt\n",
    "from sklearn.linear_model import LogisticRegression\n",
    "import sklearn"
   ]
  },
  {
   "cell_type": "code",
   "execution_count": 6,
   "metadata": {
    "collapsed": true
   },
   "outputs": [],
   "source": [
    "iris = sklearn.datasets.load_iris()"
   ]
  },
  {
   "cell_type": "markdown",
   "metadata": {},
   "source": [
    "## 1. 分层采样数据"
   ]
  },
  {
   "cell_type": "code",
   "execution_count": 74,
   "metadata": {
    "collapsed": false
   },
   "outputs": [],
   "source": [
    "def transform_target(target, train, cv, test):\n",
    "    from collections import defaultdict\n",
    "    import random\n",
    "    import math\n",
    "    classify = defaultdict(list)\n",
    "    for index, cls in enumerate(target):\n",
    "        classify[cls].append(index)\n",
    "        \n",
    "    train_index = []\n",
    "    cv_index = []\n",
    "    test_index = []\n",
    "    \n",
    "    for cls, index_list in classify.iteritems():\n",
    "        length = len(index_list)\n",
    "        if length <= 3:\n",
    "            train_index.extend(index_list)\n",
    "            continue\n",
    "            \n",
    "        train_num = max(1, int(math.floor(train * length)))\n",
    "        cv_num = max(1, int(math.floor(cv * length)))\n",
    "        test_num = length - train_num - cv_num\n",
    "        \n",
    "        random.shuffle(index_list)\n",
    "        train_index.extend(index_list[0:train_num])\n",
    "        cv_index.extend(index_list[train_num:train_num + cv_num])\n",
    "        test_index.extend(index_list[train_num+cv_num:])\n",
    "        \n",
    "    return train_index, cv_index, test_index\n",
    "\n",
    "def sample_data(target, train=0.6, cv=0.2, test=0.2):\n",
    "    \"\"\"return index of feature\"\"\"\n",
    "    index_data = []\n",
    "    sample_index_list = transform_target(target, train, cv, test)\n",
    "    return sample_index_list\n",
    "\n",
    "def cal(result, test_target_data):\n",
    "    data = result == test_target_data\n",
    "    count = 0\n",
    "    for elem in data:\n",
    "        if elem:\n",
    "            count += 1\n",
    "            \n",
    "    amount = len(test_target_data)\n",
    "    print \"count({0})/num({1}), precision:{2}\".format(count, amount, float(count) / amount) "
   ]
  },
  {
   "cell_type": "code",
   "execution_count": 75,
   "metadata": {
    "collapsed": false,
    "scrolled": false
   },
   "outputs": [],
   "source": [
    "train_index, cv_index, test_index = sample_data(iris.target)\n",
    "train_data = iris.data[train_index]\n",
    "cv_data = iris.data[cv_index]\n",
    "test_data = iris.data[test_index]\n",
    "train_target = iris.target[train_index]\n",
    "cv_target = iris.target[cv_index]\n",
    "test_target = iris.target[test_index]"
   ]
  },
  {
   "cell_type": "code",
   "execution_count": 79,
   "metadata": {
    "collapsed": false,
    "scrolled": true
   },
   "outputs": [
    {
     "name": "stdout",
     "output_type": "stream",
     "text": [
      "count(28)/num(30), precision:0.933333333333\n",
      "count(29)/num(30), precision:0.966666666667\n"
     ]
    }
   ],
   "source": [
    "cls = LogisticRegression()\n",
    "cls.fit(train_data, train_target)\n",
    "cv_predict = cls.predict(cv_data)\n",
    "cal(cv_predict, cv_target)\n",
    "test_predict = cls.predict(test_data)\n",
    "cal(test_predict, test_target)"
   ]
  },
  {
   "cell_type": "code",
   "execution_count": null,
   "metadata": {
    "collapsed": true
   },
   "outputs": [],
   "source": []
  },
  {
   "cell_type": "code",
   "execution_count": null,
   "metadata": {
    "collapsed": true
   },
   "outputs": [],
   "source": []
  },
  {
   "cell_type": "markdown",
   "metadata": {},
   "source": [
    "## 2. 预测结果分析\n",
    "通过分层采样，最终的预测结果已经不错了"
   ]
  },
  {
   "cell_type": "markdown",
   "metadata": {},
   "source": [
    "## 3. 分析LogisticRegression算法\n",
    "**主要方法**：\n",
    "1. 尝试不同的参数\n",
    "2. 熟悉源代码"
   ]
  }
 ],
 "metadata": {
  "kernelspec": {
   "display_name": "Python 2",
   "language": "python",
   "name": "python2"
  },
  "language_info": {
   "codemirror_mode": {
    "name": "ipython",
    "version": 2
   },
   "file_extension": ".py",
   "mimetype": "text/x-python",
   "name": "python",
   "nbconvert_exporter": "python",
   "pygments_lexer": "ipython2",
   "version": "2.7.11"
  }
 },
 "nbformat": 4,
 "nbformat_minor": 0
}
